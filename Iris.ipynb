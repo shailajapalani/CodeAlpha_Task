{
  "nbformat": 4,
  "nbformat_minor": 0,
  "metadata": {
    "colab": {
      "provenance": []
    },
    "kernelspec": {
      "name": "python3",
      "display_name": "Python 3"
    },
    "language_info": {
      "name": "python"
    }
  },
  "cells": [
    {
      "cell_type": "code",
      "execution_count": 1,
      "metadata": {
        "colab": {
          "base_uri": "https://localhost:8080/"
        },
        "id": "IMs6iZnmei45",
        "outputId": "e561ef13-2ecc-4443-c670-df7353ebb84a"
      },
      "outputs": [
        {
          "output_type": "stream",
          "name": "stdout",
          "text": [
            "✅ Dataset Loaded Successfully!\n",
            "   sepal length (cm)  sepal width (cm)  petal length (cm)  petal width (cm)  \\\n",
            "0                5.1               3.5                1.4               0.2   \n",
            "1                4.9               3.0                1.4               0.2   \n",
            "2                4.7               3.2                1.3               0.2   \n",
            "3                4.6               3.1                1.5               0.2   \n",
            "4                5.0               3.6                1.4               0.2   \n",
            "\n",
            "   species  \n",
            "0        0  \n",
            "1        0  \n",
            "2        0  \n",
            "3        0  \n",
            "4        0  \n",
            "\n",
            "✅ Data Split Completed!\n",
            "Training Samples: 120\n",
            "Testing Samples: 30\n",
            "\n",
            "✅ Model Training Completed!\n",
            "\n",
            "📊 Model Evaluation Results:\n",
            "Accuracy: 1.0\n",
            "\n",
            "Confusion Matrix:\n",
            " [[10  0  0]\n",
            " [ 0  9  0]\n",
            " [ 0  0 11]]\n",
            "\n",
            "Classification Report:\n",
            "               precision    recall  f1-score   support\n",
            "\n",
            "      setosa       1.00      1.00      1.00        10\n",
            "  versicolor       1.00      1.00      1.00         9\n",
            "   virginica       1.00      1.00      1.00        11\n",
            "\n",
            "    accuracy                           1.00        30\n",
            "   macro avg       1.00      1.00      1.00        30\n",
            "weighted avg       1.00      1.00      1.00        30\n",
            "\n",
            "\n",
            "🌼 Predicted Species for Sample: setosa\n"
          ]
        },
        {
          "output_type": "stream",
          "name": "stderr",
          "text": [
            "/usr/local/lib/python3.12/dist-packages/sklearn/utils/validation.py:2739: UserWarning: X does not have valid feature names, but StandardScaler was fitted with feature names\n",
            "  warnings.warn(\n"
          ]
        }
      ],
      "source": [
        "# 🌸 IRIS FLOWER CLASSIFICATION PROJECT\n",
        "\n",
        "# 1️⃣ Import Required Libraries\n",
        "import pandas as pd\n",
        "from sklearn.datasets import load_iris\n",
        "from sklearn.model_selection import train_test_split\n",
        "from sklearn.preprocessing import StandardScaler\n",
        "from sklearn.neighbors import KNeighborsClassifier\n",
        "from sklearn.metrics import accuracy_score, confusion_matrix, classification_report\n",
        "\n",
        "# 2️⃣ Load the Iris Dataset\n",
        "iris = load_iris()\n",
        "df = pd.DataFrame(data=iris.data, columns=iris.feature_names)\n",
        "df['species'] = iris.target\n",
        "\n",
        "print(\"✅ Dataset Loaded Successfully!\")\n",
        "print(df.head())\n",
        "\n",
        "# 3️⃣ Separate Features (X) and Target (y)\n",
        "X = df.iloc[:, :-1]   # Features (measurements)\n",
        "y = df.iloc[:, -1]    # Target (species)\n",
        "\n",
        "# 4️⃣ Split Dataset into Training and Testing Sets\n",
        "X_train, X_test, y_train, y_test = train_test_split(\n",
        "    X, y, test_size=0.2, random_state=42\n",
        ")\n",
        "\n",
        "print(\"\\n✅ Data Split Completed!\")\n",
        "print(\"Training Samples:\", X_train.shape[0])\n",
        "print(\"Testing Samples:\", X_test.shape[0])\n",
        "\n",
        "# 5️⃣ Standardize the Feature Values\n",
        "scaler = StandardScaler()\n",
        "X_train = scaler.fit_transform(X_train)\n",
        "X_test = scaler.transform(X_test)\n",
        "\n",
        "# 6️⃣ Train the Model (K-Nearest Neighbors)\n",
        "model = KNeighborsClassifier(n_neighbors=3)\n",
        "model.fit(X_train, y_train)\n",
        "\n",
        "print(\"\\n✅ Model Training Completed!\")\n",
        "\n",
        "# 7️⃣ Make Predictions\n",
        "y_pred = model.predict(X_test)\n",
        "\n",
        "# 8️⃣ Evaluate Model Performance\n",
        "print(\"\\n📊 Model Evaluation Results:\")\n",
        "print(\"Accuracy:\", round(accuracy_score(y_test, y_pred), 2))\n",
        "print(\"\\nConfusion Matrix:\\n\", confusion_matrix(y_test, y_pred))\n",
        "print(\"\\nClassification Report:\\n\", classification_report(y_test, y_pred, target_names=iris.target_names))\n",
        "\n",
        "# 9️⃣ Predict Species for a New Sample\n",
        "sample = [[5.1, 3.5, 1.4, 0.2]]  # Example flower measurements\n",
        "sample_scaled = scaler.transform(sample)\n",
        "pred_species = model.predict(sample_scaled)\n",
        "print(\"\\n🌼 Predicted Species for Sample:\", iris.target_names[pred_species][0])"
      ]
    }
  ]
}